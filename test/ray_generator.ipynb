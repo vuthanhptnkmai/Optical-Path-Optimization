{
 "cells": [
  {
   "cell_type": "code",
   "execution_count": 10,
   "metadata": {},
   "outputs": [
    {
     "name": "stdout",
     "output_type": "stream",
     "text": [
      "Points generated and saved to circle_data.txt\n"
     ]
    }
   ],
   "source": [
    "import random\n",
    "import math\n",
    "\n",
    "import numpy as np\n",
    "\n",
    "# Parameters for the circles\n",
    "num_circles = 5  # Number of concentric circles\n",
    "points_per_circle = 6  # Number of points per circle\n",
    "rays_per_point = 1\n",
    "max_radius = 1\n",
    "\n",
    "with open('ray_input.dat', 'w') as rf:\n",
    "    \n",
    "    with open('circle_data.txt', 'w') as cf:\n",
    "    \n",
    "        # Generate points for each circle\n",
    "        for i in range(1, num_circles + 1):\n",
    "            radius = max_radius / num_circles * i  # Radius of the circle\n",
    "            \n",
    "            for j in range(points_per_circle):\n",
    "                angle = 2 * np.pi * j / points_per_circle\n",
    "                x = radius * np.cos(angle)\n",
    "                z = radius * np.sin(angle)\n",
    "                \n",
    "                cf.write(f\"{x} {2.0} {z}\\n\")\n",
    "                \n",
    "                for k in range(rays_per_point):\n",
    "                    dx = random.uniform(-0.75, 0.75)\n",
    "                    dy = random.uniform(-2, -2.14)\n",
    "                    dz = random.uniform(-0.75, 0.75)\n",
    "                    \n",
    "                    wavelength = random.randint(450, 500)\n",
    "                        \n",
    "                    rf.write(f\"{x} {2.0} {z} {dx} {dy} {dz} {wavelength} 1\\n\")\n",
    "\n",
    "print(\"Points generated and saved to circle_data.txt\")"
   ]
  },
  {
   "cell_type": "code",
   "execution_count": null,
   "metadata": {},
   "outputs": [],
   "source": []
  }
 ],
 "metadata": {
  "kernelspec": {
   "display_name": "Python 3",
   "language": "python",
   "name": "python3"
  },
  "language_info": {
   "codemirror_mode": {
    "name": "ipython",
    "version": 3
   },
   "file_extension": ".py",
   "mimetype": "text/x-python",
   "name": "python",
   "nbconvert_exporter": "python",
   "pygments_lexer": "ipython3",
   "version": "3.10.11"
  }
 },
 "nbformat": 4,
 "nbformat_minor": 2
}
